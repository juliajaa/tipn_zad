{
 "cells": [
  {
   "cell_type": "markdown",
   "metadata": {},
   "source": [
    "# Oceny semstr pierwszy"
   ]
  },
  {
   "cell_type": "markdown",
   "metadata": {},
   "source": [
    "**Moje dzieło** _wyliczające średnią ocen ze wszystkich przedmiotów na studiach na pierwszym roku_"
   ]
  },
  {
   "cell_type": "code",
   "execution_count": 1,
   "metadata": {},
   "outputs": [],
   "source": [
    "metodologia = 5.0\n",
    "psychologia_ogolna = 5.0\n",
    "podstawy_statystyki = 4.0\n",
    "komunikacja_interpersonalna = 5.0\n",
    "wf = 4.0\n",
    "logika = 4.5\n",
    "filozofia = 4.5\n",
    "neuroanatomia = 4.0\n",
    "biol_mechanizmy_zachowania = 4.0\n",
    "angielski = 4.5\n",
    "technologie_inf = 4.5\n",
    "przeglad_dziedzin_psychologii = 5.0\n",
    "trening_interpersonalny = 5.0"
   ]
  },
  {
   "cell_type": "code",
   "execution_count": 15,
   "metadata": {},
   "outputs": [],
   "source": [
    "suma = metodologia = psychologia_ogolna + podstawy_statystyki + komunikacja_interpersonalna + wf + logika + filozofia + neuroanatomia + biol_mechanizmy_zachowania + angielski + technologie_inf + przeglad_dziedzin_psychologii + trening_interpersonalny"
   ]
  },
  {
   "cell_type": "code",
   "execution_count": 17,
   "metadata": {},
   "outputs": [],
   "source": [
    "srednia = suma/13"
   ]
  },
  {
   "cell_type": "code",
   "execution_count": 21,
   "metadata": {},
   "outputs": [
    {
     "name": "stdout",
     "output_type": "stream",
     "text": [
      "Moja średnia w pierwszym semestrze studiów to 4.153846153846154\n"
     ]
    }
   ],
   "source": [
    "print(\"Moja średnia w pierwszym semestrze studiów to \" + str (srednia))"
   ]
  },
  {
   "cell_type": "code",
   "execution_count": null,
   "metadata": {},
   "outputs": [],
   "source": []
  }
 ],
 "metadata": {
  "kernelspec": {
   "display_name": "Python 3",
   "language": "python",
   "name": "python3"
  },
  "language_info": {
   "codemirror_mode": {
    "name": "ipython",
    "version": 3
   },
   "file_extension": ".py",
   "mimetype": "text/x-python",
   "name": "python",
   "nbconvert_exporter": "python",
   "pygments_lexer": "ipython3",
   "version": "3.7.0"
  }
 },
 "nbformat": 4,
 "nbformat_minor": 2
}
